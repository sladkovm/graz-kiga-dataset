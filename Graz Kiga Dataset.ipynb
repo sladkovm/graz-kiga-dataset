{
 "cells": [
  {
   "cell_type": "code",
   "execution_count": 17,
   "metadata": {},
   "outputs": [
    {
     "data": {
      "text/html": [
       "<script type=\"text/javascript\">window.PlotlyConfig = {MathJaxConfig: 'local'};</script><script type=\"text/javascript\">if (window.MathJax) {MathJax.Hub.Config({SVG: {font: \"STIX-Web\"}});}</script><script>requirejs.config({paths: { 'plotly': ['https://cdn.plot.ly/plotly-latest.min']},});if(!window._Plotly) {require(['plotly'],function(plotly) {window._Plotly=plotly;});}</script>"
      ],
      "text/vnd.plotly.v1+html": [
       "<script type=\"text/javascript\">window.PlotlyConfig = {MathJaxConfig: 'local'};</script><script type=\"text/javascript\">if (window.MathJax) {MathJax.Hub.Config({SVG: {font: \"STIX-Web\"}});}</script><script>requirejs.config({paths: { 'plotly': ['https://cdn.plot.ly/plotly-latest.min']},});if(!window._Plotly) {require(['plotly'],function(plotly) {window._Plotly=plotly;});}</script>"
      ]
     },
     "metadata": {},
     "output_type": "display_data"
    },
    {
     "data": {
      "text/plain": [
       "True"
      ]
     },
     "execution_count": 17,
     "metadata": {},
     "output_type": "execute_result"
    }
   ],
   "source": [
    "import bonobo\n",
    "from requests_html import HTMLSession\n",
    "from pprint import pprint\n",
    "import dotenv\n",
    "import os\n",
    "import json\n",
    "import pandas as pd\n",
    "\n",
    "import plotly.plotly as py\n",
    "import plotly.graph_objs as go\n",
    "from plotly.offline import iplot, init_notebook_mode\n",
    "init_notebook_mode(connected=True)\n",
    "\n",
    "dotenv.load_dotenv()"
   ]
  },
  {
   "cell_type": "code",
   "execution_count": 19,
   "metadata": {},
   "outputs": [],
   "source": [
    "mapbox_access_token = os.getenv('MAPBOX')"
   ]
  },
  {
   "cell_type": "code",
   "execution_count": 10,
   "metadata": {},
   "outputs": [],
   "source": [
    "with open('krippe_stad.json') as f:\n",
    "    krippe = json.load(f)"
   ]
  },
  {
   "cell_type": "code",
   "execution_count": 14,
   "metadata": {},
   "outputs": [
    {
     "data": {
      "text/html": [
       "<div>\n",
       "<style scoped>\n",
       "    .dataframe tbody tr th:only-of-type {\n",
       "        vertical-align: middle;\n",
       "    }\n",
       "\n",
       "    .dataframe tbody tr th {\n",
       "        vertical-align: top;\n",
       "    }\n",
       "\n",
       "    .dataframe thead th {\n",
       "        text-align: right;\n",
       "    }\n",
       "</style>\n",
       "<table border=\"1\" class=\"dataframe\">\n",
       "  <thead>\n",
       "    <tr style=\"text-align: right;\">\n",
       "      <th></th>\n",
       "      <th>GT</th>\n",
       "      <th>address</th>\n",
       "      <th>district</th>\n",
       "      <th>lat</th>\n",
       "      <th>location</th>\n",
       "      <th>lon</th>\n",
       "      <th>more</th>\n",
       "      <th>n_groups</th>\n",
       "      <th>name</th>\n",
       "      <th>tel</th>\n",
       "      <th>time</th>\n",
       "    </tr>\n",
       "  </thead>\n",
       "  <tbody>\n",
       "    <tr>\n",
       "      <th>0</th>\n",
       "      <td>1</td>\n",
       "      <td>Plüddemanngasse 28, 8010 Graz</td>\n",
       "      <td>II. St. Leonhard</td>\n",
       "      <td>47.066873</td>\n",
       "      <td>{'place_id': 98705807, 'licence': 'Data © Open...</td>\n",
       "      <td>15.462077</td>\n",
       "      <td>Mehr Infos</td>\n",
       "      <td>Anzahl der Gruppen: 1 GT</td>\n",
       "      <td>Kinderkrippe Plüddemanngasse</td>\n",
       "      <td>Tel.: +43 316 872-2627</td>\n",
       "      <td>Öffnungszeiten: Montag bis Freitag von 07.00 b...</td>\n",
       "    </tr>\n",
       "    <tr>\n",
       "      <th>1</th>\n",
       "      <td>3</td>\n",
       "      <td>Erlengasse 25, 8020 Graz</td>\n",
       "      <td>IV. Lend</td>\n",
       "      <td>47.089034</td>\n",
       "      <td>{'place_id': 128711003, 'licence': 'Data © Ope...</td>\n",
       "      <td>15.415219</td>\n",
       "      <td>Mehr Infos</td>\n",
       "      <td>Anzahl der Gruppen: 3 GT</td>\n",
       "      <td>Kinderkrippe Erlengasse</td>\n",
       "      <td>Tel.: +43 316 872-2680</td>\n",
       "      <td>Öffnungszeiten: Montag bis Freitag von 07.00 b...</td>\n",
       "    </tr>\n",
       "    <tr>\n",
       "      <th>2</th>\n",
       "      <td>2</td>\n",
       "      <td>Idlhofgasse 74, 8020 Graz</td>\n",
       "      <td>V. Gries</td>\n",
       "      <td>47.064953</td>\n",
       "      <td>{'place_id': 94567664, 'licence': 'Data © Open...</td>\n",
       "      <td>15.422393</td>\n",
       "      <td>Mehr Infos</td>\n",
       "      <td>Anzahl der Gruppen: 2 GT</td>\n",
       "      <td>Kinderkrippe Idlhofgasse</td>\n",
       "      <td>Tel.: +43 316 872-2781</td>\n",
       "      <td>Öffnungszeiten: Montag bis Freitag von 07.00 b...</td>\n",
       "    </tr>\n",
       "    <tr>\n",
       "      <th>3</th>\n",
       "      <td>1</td>\n",
       "      <td>Dornschneidergasse 45, 8020 Graz</td>\n",
       "      <td>V. Gries</td>\n",
       "      <td>47.049065</td>\n",
       "      <td>{'place_id': 94297865, 'licence': 'Data © Open...</td>\n",
       "      <td>15.430726</td>\n",
       "      <td>Mehr Infos</td>\n",
       "      <td>Anzahl der Gruppen: 1 GT</td>\n",
       "      <td>Kinderkrippe Dornschneidergasse</td>\n",
       "      <td>Tel.: +43 316 872-2608</td>\n",
       "      <td>Öffnungszeiten: Montag bis Freitag von 07.00 b...</td>\n",
       "    </tr>\n",
       "    <tr>\n",
       "      <th>4</th>\n",
       "      <td>3</td>\n",
       "      <td>Petersgasse 94, 8010 Graz</td>\n",
       "      <td>VI. Jakomini</td>\n",
       "      <td>47.060695</td>\n",
       "      <td>{'place_id': 6189587, 'licence': 'Data © OpenS...</td>\n",
       "      <td>15.460916</td>\n",
       "      <td>Mehr Infos</td>\n",
       "      <td>Anzahl der Gruppen: 3 GT</td>\n",
       "      <td>Kinderkrippe Petersgasse</td>\n",
       "      <td>Tel.: +43 316 872-2783</td>\n",
       "      <td>Öffnungszeiten: Montag bis Freitag von 07.00 b...</td>\n",
       "    </tr>\n",
       "  </tbody>\n",
       "</table>\n",
       "</div>"
      ],
      "text/plain": [
       "   GT                           address          district        lat  \\\n",
       "0   1     Plüddemanngasse 28, 8010 Graz  II. St. Leonhard  47.066873   \n",
       "1   3          Erlengasse 25, 8020 Graz          IV. Lend  47.089034   \n",
       "2   2         Idlhofgasse 74, 8020 Graz          V. Gries  47.064953   \n",
       "3   1  Dornschneidergasse 45, 8020 Graz          V. Gries  47.049065   \n",
       "4   3         Petersgasse 94, 8010 Graz      VI. Jakomini  47.060695   \n",
       "\n",
       "                                            location        lon        more  \\\n",
       "0  {'place_id': 98705807, 'licence': 'Data © Open...  15.462077  Mehr Infos   \n",
       "1  {'place_id': 128711003, 'licence': 'Data © Ope...  15.415219  Mehr Infos   \n",
       "2  {'place_id': 94567664, 'licence': 'Data © Open...  15.422393  Mehr Infos   \n",
       "3  {'place_id': 94297865, 'licence': 'Data © Open...  15.430726  Mehr Infos   \n",
       "4  {'place_id': 6189587, 'licence': 'Data © OpenS...  15.460916  Mehr Infos   \n",
       "\n",
       "                   n_groups                             name  \\\n",
       "0  Anzahl der Gruppen: 1 GT     Kinderkrippe Plüddemanngasse   \n",
       "1  Anzahl der Gruppen: 3 GT          Kinderkrippe Erlengasse   \n",
       "2  Anzahl der Gruppen: 2 GT         Kinderkrippe Idlhofgasse   \n",
       "3  Anzahl der Gruppen: 1 GT  Kinderkrippe Dornschneidergasse   \n",
       "4  Anzahl der Gruppen: 3 GT         Kinderkrippe Petersgasse   \n",
       "\n",
       "                      tel                                               time  \n",
       "0  Tel.: +43 316 872-2627  Öffnungszeiten: Montag bis Freitag von 07.00 b...  \n",
       "1  Tel.: +43 316 872-2680  Öffnungszeiten: Montag bis Freitag von 07.00 b...  \n",
       "2  Tel.: +43 316 872-2781  Öffnungszeiten: Montag bis Freitag von 07.00 b...  \n",
       "3  Tel.: +43 316 872-2608  Öffnungszeiten: Montag bis Freitag von 07.00 b...  \n",
       "4  Tel.: +43 316 872-2783  Öffnungszeiten: Montag bis Freitag von 07.00 b...  "
      ]
     },
     "execution_count": 14,
     "metadata": {},
     "output_type": "execute_result"
    }
   ],
   "source": [
    "df = pd.DataFrame(krippe)\n",
    "df.head()"
   ]
  },
  {
   "cell_type": "code",
   "execution_count": 24,
   "metadata": {},
   "outputs": [
    {
     "data": {
      "application/vnd.plotly.v1+json": {
       "config": {
        "linkText": "Export to plot.ly",
        "plotlyServerURL": "https://plot.ly",
        "showLink": false
       },
       "data": [
        {
         "lat": [
          47.06687265,
          47.08903445,
          47.0649527,
          47.0490653,
          47.0606952,
          47.0527564,
          47.063779,
          47.0536392,
          47.02442465,
          47.0227374,
          47.05353065,
          47.07034345,
          47.0901641,
          47.0992453,
          47.10835475,
          47.0941042,
          47.0570001
         ],
         "lon": [
          15.4620767586451,
          15.4152191835271,
          15.4223927356983,
          15.4307255511389,
          15.4609157,
          15.4543012737088,
          15.436403,
          15.4421607,
          15.4570175077685,
          15.46733255,
          15.466029285832,
          15.4959480351647,
          15.4551476,
          15.4168024,
          15.4258321419852,
          15.4132593,
          15.3971926
         ],
         "marker": {
          "size": 14
         },
         "mode": "markers",
         "text": [
          "Kinderkrippe Plüddemanngasse",
          "Kinderkrippe Erlengasse",
          "Kinderkrippe Idlhofgasse",
          "Kinderkrippe Dornschneidergasse",
          "Kinderkrippe Petersgasse",
          "Kinderkrippe Flurgasse",
          "Kinderkrippe Friedrichgasse",
          "Kinderkrippe Fröhlichgasse",
          "Kinderkrippe Mittelstraße",
          "Kinderkrippe Kloiberweg",
          "Kinderkrippe Nußbaumerstraße",
          "Kinderkrippe Lustbühelstraße",
          "Kinderkrippe Schönbrunngasse",
          "Kinderkrippe Weinzöttlstraße",
          "Kinderkrippe Prochaskagasse",
          "Kinderkrippe Augasse",
          "Kinderkrippe Schererstraße"
         ],
         "type": "scattermapbox",
         "uid": "f6e729b2-a5ec-4458-9ba3-7925d27b4719"
        }
       ],
       "layout": {
        "autosize": true,
        "hovermode": "closest",
        "mapbox": {
         "accesstoken": "pk.eyJ1Ijoic2xhZGtvdm0iLCJhIjoiY2piZjh3eWluMnMyZjMzbXJydWF2MWtzdSJ9.Ltqoa_kxJ1EMVj-8qGFNCA",
         "bearing": 0,
         "center": {
          "lat": 47.0659235,
          "lon": 15.442279783733447
         },
         "pitch": 0,
         "zoom": 10
        }
       }
      },
      "text/html": [
       "<div id=\"c21976a4-91c3-43ab-adae-f59daf0091a0\" style=\"height: 525px; width: 100%;\" class=\"plotly-graph-div\"></div><script type=\"text/javascript\">require([\"plotly\"], function(Plotly) { window.PLOTLYENV=window.PLOTLYENV || {};window.PLOTLYENV.BASE_URL=\"https://plot.ly\";\n",
       "if (document.getElementById(\"c21976a4-91c3-43ab-adae-f59daf0091a0\")) {\n",
       "    Plotly.newPlot(\"c21976a4-91c3-43ab-adae-f59daf0091a0\", [{\"lat\": [47.06687265, 47.08903445, 47.0649527, 47.0490653, 47.0606952, 47.0527564, 47.063779, 47.0536392, 47.02442465, 47.0227374, 47.05353065, 47.07034345, 47.0901641, 47.0992453, 47.10835475, 47.0941042, 47.0570001], \"lon\": [15.4620767586451, 15.4152191835271, 15.4223927356983, 15.4307255511389, 15.4609157, 15.4543012737088, 15.436403, 15.4421607, 15.4570175077685, 15.46733255, 15.466029285832, 15.4959480351647, 15.4551476, 15.4168024, 15.4258321419852, 15.4132593, 15.3971926], \"marker\": {\"size\": 14}, \"mode\": \"markers\", \"text\": [\"Kinderkrippe Pl\\u00fcddemanngasse\", \"Kinderkrippe Erlengasse\", \"Kinderkrippe Idlhofgasse\", \"Kinderkrippe Dornschneidergasse\", \"Kinderkrippe Petersgasse\", \"Kinderkrippe Flurgasse\", \"Kinderkrippe Friedrichgasse\", \"Kinderkrippe Fr\\u00f6hlichgasse\", \"Kinderkrippe Mittelstra\\u00dfe\", \"Kinderkrippe Kloiberweg\", \"Kinderkrippe Nu\\u00dfbaumerstra\\u00dfe\", \"Kinderkrippe Lustb\\u00fchelstra\\u00dfe\", \"Kinderkrippe Sch\\u00f6nbrunngasse\", \"Kinderkrippe Weinz\\u00f6ttlstra\\u00dfe\", \"Kinderkrippe Prochaskagasse\", \"Kinderkrippe Augasse\", \"Kinderkrippe Schererstra\\u00dfe\"], \"type\": \"scattermapbox\", \"uid\": \"f6e729b2-a5ec-4458-9ba3-7925d27b4719\"}], {\"autosize\": true, \"hovermode\": \"closest\", \"mapbox\": {\"accesstoken\": \"pk.eyJ1Ijoic2xhZGtvdm0iLCJhIjoiY2piZjh3eWluMnMyZjMzbXJydWF2MWtzdSJ9.Ltqoa_kxJ1EMVj-8qGFNCA\", \"bearing\": 0, \"center\": {\"lat\": 47.0659235, \"lon\": 15.442279783733447}, \"pitch\": 0, \"zoom\": 10}}, {\"showLink\": false, \"linkText\": \"Export to plot.ly\", \"plotlyServerURL\": \"https://plot.ly\"}); \n",
       "}\n",
       "});</script><script type=\"text/javascript\">window.addEventListener(\"resize\", function(){if (document.getElementById(\"c21976a4-91c3-43ab-adae-f59daf0091a0\")) {window._Plotly.Plots.resize(document.getElementById(\"c21976a4-91c3-43ab-adae-f59daf0091a0\"));};})</script>"
      ],
      "text/vnd.plotly.v1+html": [
       "<div id=\"c21976a4-91c3-43ab-adae-f59daf0091a0\" style=\"height: 525px; width: 100%;\" class=\"plotly-graph-div\"></div><script type=\"text/javascript\">require([\"plotly\"], function(Plotly) { window.PLOTLYENV=window.PLOTLYENV || {};window.PLOTLYENV.BASE_URL=\"https://plot.ly\";\n",
       "if (document.getElementById(\"c21976a4-91c3-43ab-adae-f59daf0091a0\")) {\n",
       "    Plotly.newPlot(\"c21976a4-91c3-43ab-adae-f59daf0091a0\", [{\"lat\": [47.06687265, 47.08903445, 47.0649527, 47.0490653, 47.0606952, 47.0527564, 47.063779, 47.0536392, 47.02442465, 47.0227374, 47.05353065, 47.07034345, 47.0901641, 47.0992453, 47.10835475, 47.0941042, 47.0570001], \"lon\": [15.4620767586451, 15.4152191835271, 15.4223927356983, 15.4307255511389, 15.4609157, 15.4543012737088, 15.436403, 15.4421607, 15.4570175077685, 15.46733255, 15.466029285832, 15.4959480351647, 15.4551476, 15.4168024, 15.4258321419852, 15.4132593, 15.3971926], \"marker\": {\"size\": 14}, \"mode\": \"markers\", \"text\": [\"Kinderkrippe Pl\\u00fcddemanngasse\", \"Kinderkrippe Erlengasse\", \"Kinderkrippe Idlhofgasse\", \"Kinderkrippe Dornschneidergasse\", \"Kinderkrippe Petersgasse\", \"Kinderkrippe Flurgasse\", \"Kinderkrippe Friedrichgasse\", \"Kinderkrippe Fr\\u00f6hlichgasse\", \"Kinderkrippe Mittelstra\\u00dfe\", \"Kinderkrippe Kloiberweg\", \"Kinderkrippe Nu\\u00dfbaumerstra\\u00dfe\", \"Kinderkrippe Lustb\\u00fchelstra\\u00dfe\", \"Kinderkrippe Sch\\u00f6nbrunngasse\", \"Kinderkrippe Weinz\\u00f6ttlstra\\u00dfe\", \"Kinderkrippe Prochaskagasse\", \"Kinderkrippe Augasse\", \"Kinderkrippe Schererstra\\u00dfe\"], \"type\": \"scattermapbox\", \"uid\": \"f6e729b2-a5ec-4458-9ba3-7925d27b4719\"}], {\"autosize\": true, \"hovermode\": \"closest\", \"mapbox\": {\"accesstoken\": \"pk.eyJ1Ijoic2xhZGtvdm0iLCJhIjoiY2piZjh3eWluMnMyZjMzbXJydWF2MWtzdSJ9.Ltqoa_kxJ1EMVj-8qGFNCA\", \"bearing\": 0, \"center\": {\"lat\": 47.0659235, \"lon\": 15.442279783733447}, \"pitch\": 0, \"zoom\": 10}}, {\"showLink\": false, \"linkText\": \"Export to plot.ly\", \"plotlyServerURL\": \"https://plot.ly\"}); \n",
       "}\n",
       "});</script><script type=\"text/javascript\">window.addEventListener(\"resize\", function(){if (document.getElementById(\"c21976a4-91c3-43ab-adae-f59daf0091a0\")) {window._Plotly.Plots.resize(document.getElementById(\"c21976a4-91c3-43ab-adae-f59daf0091a0\"));};})</script>"
      ]
     },
     "metadata": {},
     "output_type": "display_data"
    }
   ],
   "source": [
    "data = [\n",
    "    go.Scattermapbox(\n",
    "        lat=df.lat,\n",
    "        lon=df.lon,\n",
    "        mode='markers',\n",
    "        marker=go.scattermapbox.Marker(\n",
    "            size=14\n",
    "        ),\n",
    "        text=df.name,\n",
    "    )\n",
    "]\n",
    "\n",
    "layout = go.Layout(\n",
    "    autosize=True,\n",
    "    hovermode='closest',\n",
    "    mapbox=go.layout.Mapbox(\n",
    "        accesstoken=mapbox_access_token,\n",
    "        bearing=0,\n",
    "        center=go.layout.mapbox.Center(\n",
    "            lat=df.lat.mean(),\n",
    "            lon=df.lon.mean()\n",
    "        ),\n",
    "        pitch=0,\n",
    "        zoom=10\n",
    "    ),\n",
    ")\n",
    "\n",
    "fig = go.Figure(data=data, layout=layout)\n",
    "iplot(fig, filename='Montreal Mapbox')"
   ]
  }
 ],
 "metadata": {
  "kernelspec": {
   "display_name": "Python 3",
   "language": "python",
   "name": "python3"
  },
  "language_info": {
   "codemirror_mode": {
    "name": "ipython",
    "version": 3
   },
   "file_extension": ".py",
   "mimetype": "text/x-python",
   "name": "python",
   "nbconvert_exporter": "python",
   "pygments_lexer": "ipython3",
   "version": "3.6.5"
  }
 },
 "nbformat": 4,
 "nbformat_minor": 2
}
