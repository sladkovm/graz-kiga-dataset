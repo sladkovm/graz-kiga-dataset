{
 "cells": [
  {
   "cell_type": "code",
   "execution_count": 9,
   "metadata": {},
   "outputs": [
    {
     "data": {
      "text/html": [
       "        <script type=\"text/javascript\">\n",
       "        window.PlotlyConfig = {MathJaxConfig: 'local'};\n",
       "        if (window.MathJax) {MathJax.Hub.Config({SVG: {font: \"STIX-Web\"}});}\n",
       "        if (typeof require !== 'undefined') {\n",
       "        require.undef(\"plotly\");\n",
       "        requirejs.config({\n",
       "            paths: {\n",
       "                'plotly': ['https://cdn.plot.ly/plotly-latest.min']\n",
       "            }\n",
       "        });\n",
       "        require(['plotly'], function(Plotly) {\n",
       "            window._Plotly = Plotly;\n",
       "        });\n",
       "        }\n",
       "        </script>\n",
       "        "
      ]
     },
     "metadata": {},
     "output_type": "display_data"
    },
    {
     "data": {
      "text/plain": [
       "True"
      ]
     },
     "execution_count": 9,
     "metadata": {},
     "output_type": "execute_result"
    }
   ],
   "source": [
    "import bonobo\n",
    "from requests_html import HTMLSession\n",
    "from pprint import pprint\n",
    "import dotenv\n",
    "import os\n",
    "import json\n",
    "import pandas as pd\n",
    "from geopy import Nominatim\n",
    "\n",
    "import plotly.plotly as py\n",
    "import plotly.graph_objs as go\n",
    "from plotly.offline import iplot, init_notebook_mode\n",
    "init_notebook_mode(connected=True)\n",
    "\n",
    "dotenv.load_dotenv()"
   ]
  },
  {
   "cell_type": "code",
   "execution_count": 2,
   "metadata": {},
   "outputs": [],
   "source": [
    "geocoder = Nominatim(user_agent='Kiga Graz')"
   ]
  },
  {
   "cell_type": "code",
   "execution_count": 71,
   "metadata": {},
   "outputs": [],
   "source": [
    "center = geocoder.geocode('Hauptplatz 1, 8010 Graz')\n",
    "home = geocoder.geocode('Grabenstrasse 45, Graz')\n",
    "hbf = geocoder.geocode('hauptbahnhof, Graz')\n",
    "uni = geocoder.geocode('Universitätsplatz 3, 8010 Graz')\n",
    "tu_uni = geocoder.geocode('Rechbauerstraße 12, 8010 Graz')\n",
    "kc = geocoder.geocode('Inffeldgasse 13, 8010 Graz')\n",
    "lkh = geocoder.geocode('Auenbruggerplatz 1, 8036 Graz')"
   ]
  },
  {
   "cell_type": "code",
   "execution_count": 73,
   "metadata": {},
   "outputs": [
    {
     "data": {
      "text/plain": [
       "Location(1, Auenbruggerplatz, Geidorf, Graz, Steiermark, 8036, Österreich, (47.0794539, 15.4657707, 0.0))"
      ]
     },
     "execution_count": 73,
     "metadata": {},
     "output_type": "execute_result"
    }
   ],
   "source": [
    "lkh"
   ]
  },
  {
   "cell_type": "code",
   "execution_count": 10,
   "metadata": {},
   "outputs": [
    {
     "data": {
      "text/plain": [
       "'pk.eyJ1Ijoic2xhZGtvdm0iLCJhIjoiY2piZjh3eWluMnMyZjMzbXJydWF2MWtzdSJ9.Ltqoa_kxJ1EMVj-8qGFNCA'"
      ]
     },
     "execution_count": 10,
     "metadata": {},
     "output_type": "execute_result"
    }
   ],
   "source": [
    "mapbox_access_token = os.getenv('MAPBOX')\n",
    "mapbox_access_token"
   ]
  },
  {
   "cell_type": "code",
   "execution_count": 11,
   "metadata": {},
   "outputs": [],
   "source": [
    "with open('krippe_stad.json') as f:\n",
    "    krippe_stad = json.load(f)\n",
    "with open('krippe_privat.json') as f:\n",
    "    krippe_privat = json.load(f)"
   ]
  },
  {
   "cell_type": "code",
   "execution_count": 12,
   "metadata": {},
   "outputs": [],
   "source": [
    "df_stad = pd.DataFrame(krippe_stad)\n",
    "df_privat = pd.DataFrame(krippe_privat)"
   ]
  },
  {
   "cell_type": "code",
   "execution_count": 74,
   "metadata": {
    "scrolled": false
   },
   "outputs": [
    {
     "data": {
      "application/vnd.plotly.v1+json": {
       "config": {
        "linkText": "Export to plot.ly",
        "plotlyServerURL": "https://plot.ly",
        "responsive": true,
        "showLink": false
       },
       "data": [
        {
         "lat": [
          47.06687265,
          47.08903445,
          47.0649527,
          47.0490653,
          47.0606952,
          47.0527564,
          47.063779,
          47.0536392,
          47.02442465,
          47.0227374,
          47.05353065,
          47.07034345,
          47.0901641,
          47.0992453,
          47.10835475,
          47.0941042,
          47.0570001
         ],
         "lon": [
          15.4620767586451,
          15.4152191835271,
          15.4223927356983,
          15.4307255511389,
          15.4609157,
          15.4543012737088,
          15.436403,
          15.4421607,
          15.4570175077685,
          15.46733255,
          15.466029285832,
          15.4959480351647,
          15.4551476,
          15.4168024,
          15.4258321419852,
          15.4132593,
          15.3971926
         ],
         "marker": {
          "color": "red",
          "size": [
           5,
           15,
           10,
           5,
           15,
           10,
           5,
           10,
           5,
           10,
           5,
           10,
           25,
           5,
           20,
           10,
           10
          ]
         },
         "mode": "markers",
         "name": "Stadt",
         "text": [
          "Kinderkrippe Plüddemanngasse",
          "Kinderkrippe Erlengasse",
          "Kinderkrippe Idlhofgasse",
          "Kinderkrippe Dornschneidergasse",
          "Kinderkrippe Petersgasse",
          "Kinderkrippe Flurgasse",
          "Kinderkrippe Friedrichgasse",
          "Kinderkrippe Fröhlichgasse",
          "Kinderkrippe Mittelstraße",
          "Kinderkrippe Kloiberweg",
          "Kinderkrippe Nußbaumerstraße",
          "Kinderkrippe Lustbühelstraße",
          "Kinderkrippe Schönbrunngasse",
          "Kinderkrippe Weinzöttlstraße",
          "Kinderkrippe Prochaskagasse",
          "Kinderkrippe Augasse",
          "Kinderkrippe Schererstraße"
         ],
         "type": "scattermapbox",
         "uid": "a7cae3f8-3545-4575-8076-bc49467f9dcf"
        },
        {
         "lat": [
          47.0735483,
          47.0679489,
          47.0717919,
          47.0765197,
          47.0766974,
          47.07887085,
          null,
          47.0811726,
          47.0767367,
          47.0840797,
          47.0811726,
          47.0767188,
          47.07196145,
          47.0772686,
          47.08361875,
          47.0752475,
          47.0746296,
          47.0808852,
          47.0875025,
          47.074714,
          null,
          47.08014855,
          47.08231805,
          47.06964495,
          47.0693081,
          47.0637722,
          47.06859155,
          47.0665975,
          47.0538215,
          47.0596942,
          47.054182,
          47.0578639,
          47.05976875,
          47.0590971,
          47.0597878,
          47.0559748,
          47.036949,
          47.03849095,
          47.04176645,
          47.01849345,
          47.0475996,
          47.04725025,
          47.05374115,
          47.06730875,
          47.06830195,
          47.0686049,
          47.0820141,
          47.0862806,
          47.0868043,
          47.0876966,
          47.10343775,
          47.1001733,
          47.1174037,
          47.1001918,
          47.10003635,
          47.0976588,
          47.1054135,
          47.0899523,
          47.0697366,
          47.0633492,
          47.0763282,
          47.06318525,
          47.0763282,
          47.06530235,
          47.0688058,
          47.0746329,
          47.04849935,
          null,
          47.0490691,
          null,
          47.0353992,
          47.0543809,
          47.03151425,
          47.0309866,
          47.02351925,
          47.0207587,
          47.0265149
         ],
         "lon": [
          15.4357943,
          15.4468652,
          15.4484939,
          15.4622394,
          15.4622888,
          15.4440666801614,
          null,
          15.4485891,
          15.4446567,
          15.4594994,
          15.4485891,
          15.4542949,
          15.4200691187193,
          15.4263164,
          15.4094627385071,
          15.4212607,
          15.4323957600297,
          15.4171485,
          15.4211238765203,
          15.4264968478288,
          null,
          15.4197192369574,
          15.4211532533338,
          15.4281404116548,
          15.4287556,
          15.4301723,
          15.4271913829813,
          15.4129596,
          15.4273066658881,
          15.4325234,
          15.4267188,
          15.4518213222863,
          15.4362054033279,
          15.4656563,
          15.4496276,
          15.4471056,
          15.4653632,
          15.4532453683719,
          15.4551296785484,
          15.4729228143881,
          15.4760781,
          15.4835282105049,
          15.4751961135578,
          15.470220210249,
          15.4835039248062,
          15.4833160543649,
          15.4702608499742,
          15.4728305,
          15.4739365,
          15.4742012,
          15.4876124,
          15.4165459,
          15.4219471,
          15.4014369822836,
          15.3976495109034,
          15.3936957953302,
          15.3965992,
          15.4033803,
          15.3933862842875,
          15.4097867,
          15.3938874,
          15.3984334882762,
          15.3938874,
          15.4089972757696,
          15.3984587,
          15.401687,
          15.396028,
          null,
          15.4146299989483,
          null,
          15.4220248,
          15.4166012,
          15.4040235366082,
          15.4116410942572,
          15.4009166921712,
          15.440536775215,
          15.4398144
         ],
         "marker": {
          "color": "blue",
          "size": 10
         },
         "mode": "markers",
         "name": "Privat",
         "text": [
          "WIKI Kinderkrippe Sackstraße",
          "WIKI Kinderkrippe Schlögelgasse",
          "Kinderkrippe Modellino",
          "GiP Kinderkrippe Leonhard",
          "GiP Kinderkrippe Leonhardstraße",
          "Kinderkrippe Landesunterstützungsverein",
          "WIKI Uni Kinderkrippe",
          "ÖH Uni Graz/ WIKI Kinderkrippe",
          "Kinderkrippe Max und Moritz",
          "WIKI Kinderkrippe Hilmgasse",
          "Kinderkrippe integrativ geführt für Hör- und Sprachbildung",
          "GiP Kinderkrippe Leechgasse",
          "Kinderkrippe Rasselbande",
          "Anton-Afritsch Kinderkrippe",
          "WIKI Kinderkrippe Plabutscher Straße",
          "WIKI Kinderkrippe Ghegagasse",
          "GiP Kinderkrippe Stockergasse",
          "WIKI Kinderkrippe Babenbergerstraße",
          "WIKI Kinderkrippe Überfuhrgasse",
          "GiP GmbH Kinderkrippe Sigmundstadl",
          "AVL Kinderkrippe (nur für Bedienstete der Fa. AVL List GmbH)",
          "GiP Kinderkrippe",
          "WIKI Kalvarienbergstraße",
          "Privatkinderkrippe miniMEX",
          "WIKI Kinderkrippe Dreihackengasse",
          "WIKI Kinderkrippe Albert-Schweitzer",
          "GiP Kinderkrippe Elisabethinergasse",
          "WIKI Kinderkrippe ÖAMTC",
          "GiP Kinderkrippe Triester Straße",
          "WIKI Kinderkrippe Rankengasse",
          "GiP Kinderkrippe Vinzenz Muchitsch Straße",
          "Kinderkrippe Kunterbunt",
          "WIKI Kinderkrippe himmelgrün-Holding Graz",
          "Nanoversity der TU Graz (Betriebskinderkrippe)",
          "Volkshilfe Kinderkrippe Messequartier",
          "WIKI Kinderkrippe Styria",
          "Kinderbetreuungsverein Kinderkrippe Schneckenhaus",
          "WIKI Kinderkrippe Ziehrerstraße",
          "GiP Kinderkrippe Raiffeisenstraße",
          "Kinderkrippe Magna Kids World, Volkshilfe Stmk. (Betriebskinderkrippe)",
          "WIKI Kinderkrippe Marburger Straße",
          "Kinderkrippe Waldorf",
          "GiP Kinderkrippe St.Peter",
          "GiP Kinderkrippe Mannagettaweg",
          "GIP Kinderkrippe Waltendorfer Hauptstraße",
          "GIP Kinderkrippe Fischerhofweg",
          "Kinderkrippe Billrothgasse (nur für Bedienstete des LKH Graz)",
          "Waldorf-Kinderstube Stiftingtal",
          "GiP Kinderkrippe Stiftingtalstraße",
          "GiP Kinderkrippe Kindercampus",
          "WIKI Kinderkrippe Tannhof",
          "Kinderkrippe Zwergennest",
          "WIKI Kinderkrippe Statteggerstraße",
          "Kinderkrippe Verein \"Mit Kindern wachsen\"",
          "WIKI Kinderkrippe Gösting",
          "Volkshilfe Kinderkrippe Bunte Welt",
          "WIKI Kinderkrippe Obere Weid",
          "Kinderkrippe Kinderburg Gösting",
          "WIKI Kinderkrippe Eggenberg",
          "WIKI Kinderkrippe Reininghaus",
          "Pfarrkinderkrippe St. Vinzenz",
          "Kinderkrippe Sim Sala Bim",
          "Betriebskinderkrippe der Barmherzigen Brüder",
          "GiP Kindekrippe Reininghausstraße",
          "GiP Kinderkrippe Eckertstraße",
          "WIKI Kinderkrippe Algersdorferstraße",
          "WIKI Kinderkrippe Babynest",
          "Kinderkrippe \"Rettet das Kind\" Gusti Bauer",
          "GiP Kinderkrippe Wiesenauergasse",
          "© Kinderfreunde",
          "WIKI Kinderkrippe Graz-West",
          "WIKI Kinderkrippe Kärntner Straße",
          "Betriebskinderkrippe der Firma Anton Paar (nur für Bedienstete der Firma Anton Paar)",
          "Kinderkrippe Verein Kindernest Lengheimerweg",
          "\"Rettet das Kind\" Kinderkrippe",
          "Volkshilfe Kinderkrippe \"Meine Welt\" Rudersdorfer Au",
          "GiP Kinderkrippe"
         ],
         "type": "scattermapbox",
         "uid": "d61cbe67-5e78-4839-86b6-824e94bb4c30"
        },
        {
         "lat": [
          47.0704298,
          47.0844163,
          47.0727475,
          47.0777836,
          47.0687232,
          47.05918325,
          47.0794539
         ],
         "lon": [
          15.4382352,
          15.4366836263287,
          15.4181763,
          15.4494234560134,
          15.4504543,
          15.4633063948165,
          15.4657707
         ],
         "marker": {
          "color": "green",
          "size": 10
         },
         "mode": "markers",
         "name": "Landmarks",
         "text": "landmarks",
         "type": "scattermapbox",
         "uid": "0b08b000-4716-4a50-9072-82302df886c6"
        }
       ],
       "layout": {
        "autosize": true,
        "height": 1024,
        "hovermode": "closest",
        "legend": {
         "orientation": "h",
         "x": 0,
         "y": 0
        },
        "mapbox": {
         "accesstoken": "pk.eyJ1Ijoic2xhZGtvdm0iLCJhIjoiY2piZjh3eWluMnMyZjMzbXJydWF2MWtzdSJ9.Ltqoa_kxJ1EMVj-8qGFNCA",
         "bearing": 0,
         "center": {
          "lat": 47.0704298,
          "lon": 15.4382352
         },
         "pitch": 0,
         "zoom": 12
        },
        "title": {
         "text": "Kinderkrippe Graz 2019"
        },
        "width": 1024
       }
      },
      "text/html": [
       "<div>\n",
       "        \n",
       "        \n",
       "            <div id=\"3ef27c71-36bf-4131-9bd0-a02dd7108420\" class=\"plotly-graph-div\" style=\"height:1024px; width:1024px;\"></div>\n",
       "            <script type=\"text/javascript\">\n",
       "                require([\"plotly\"], function(Plotly) {\n",
       "                    window.PLOTLYENV=window.PLOTLYENV || {};\n",
       "                    window.PLOTLYENV.BASE_URL='https://plot.ly';\n",
       "                    \n",
       "                if (document.getElementById(\"3ef27c71-36bf-4131-9bd0-a02dd7108420\")) {\n",
       "                    Plotly.newPlot(\n",
       "                        '3ef27c71-36bf-4131-9bd0-a02dd7108420',\n",
       "                        [{\"lat\": [47.06687265, 47.08903445, 47.0649527, 47.0490653, 47.0606952, 47.0527564, 47.063779, 47.0536392, 47.02442465, 47.0227374, 47.05353065, 47.07034345, 47.0901641, 47.0992453, 47.10835475, 47.0941042, 47.0570001], \"lon\": [15.4620767586451, 15.4152191835271, 15.4223927356983, 15.4307255511389, 15.4609157, 15.4543012737088, 15.436403, 15.4421607, 15.4570175077685, 15.46733255, 15.466029285832, 15.4959480351647, 15.4551476, 15.4168024, 15.4258321419852, 15.4132593, 15.3971926], \"marker\": {\"color\": \"red\", \"size\": [5, 15, 10, 5, 15, 10, 5, 10, 5, 10, 5, 10, 25, 5, 20, 10, 10]}, \"mode\": \"markers\", \"name\": \"Stadt\", \"text\": [\"Kinderkrippe Pl\\u00fcddemanngasse\", \"Kinderkrippe Erlengasse\", \"Kinderkrippe Idlhofgasse\", \"Kinderkrippe Dornschneidergasse\", \"Kinderkrippe Petersgasse\", \"Kinderkrippe Flurgasse\", \"Kinderkrippe Friedrichgasse\", \"Kinderkrippe Fr\\u00f6hlichgasse\", \"Kinderkrippe Mittelstra\\u00dfe\", \"Kinderkrippe Kloiberweg\", \"Kinderkrippe Nu\\u00dfbaumerstra\\u00dfe\", \"Kinderkrippe Lustb\\u00fchelstra\\u00dfe\", \"Kinderkrippe Sch\\u00f6nbrunngasse\", \"Kinderkrippe Weinz\\u00f6ttlstra\\u00dfe\", \"Kinderkrippe Prochaskagasse\", \"Kinderkrippe Augasse\", \"Kinderkrippe Schererstra\\u00dfe\"], \"type\": \"scattermapbox\", \"uid\": \"51614b7c-b40d-4e65-9016-85a00d800951\"}, {\"lat\": [47.0735483, 47.0679489, 47.0717919, 47.0765197, 47.0766974, 47.07887085, null, 47.0811726, 47.0767367, 47.0840797, 47.0811726, 47.0767188, 47.07196145, 47.0772686, 47.08361875, 47.0752475, 47.0746296, 47.0808852, 47.0875025, 47.074714, null, 47.08014855, 47.08231805, 47.06964495, 47.0693081, 47.0637722, 47.06859155, 47.0665975, 47.0538215, 47.0596942, 47.054182, 47.0578639, 47.05976875, 47.0590971, 47.0597878, 47.0559748, 47.036949, 47.03849095, 47.04176645, 47.01849345, 47.0475996, 47.04725025, 47.05374115, 47.06730875, 47.06830195, 47.0686049, 47.0820141, 47.0862806, 47.0868043, 47.0876966, 47.10343775, 47.1001733, 47.1174037, 47.1001918, 47.10003635, 47.0976588, 47.1054135, 47.0899523, 47.0697366, 47.0633492, 47.0763282, 47.06318525, 47.0763282, 47.06530235, 47.0688058, 47.0746329, 47.04849935, null, 47.0490691, null, 47.0353992, 47.0543809, 47.03151425, 47.0309866, 47.02351925, 47.0207587, 47.0265149], \"lon\": [15.4357943, 15.4468652, 15.4484939, 15.4622394, 15.4622888, 15.4440666801614, null, 15.4485891, 15.4446567, 15.4594994, 15.4485891, 15.4542949, 15.4200691187193, 15.4263164, 15.4094627385071, 15.4212607, 15.4323957600297, 15.4171485, 15.4211238765203, 15.4264968478288, null, 15.4197192369574, 15.4211532533338, 15.4281404116548, 15.4287556, 15.4301723, 15.4271913829813, 15.4129596, 15.4273066658881, 15.4325234, 15.4267188, 15.4518213222863, 15.4362054033279, 15.4656563, 15.4496276, 15.4471056, 15.4653632, 15.4532453683719, 15.4551296785484, 15.4729228143881, 15.4760781, 15.4835282105049, 15.4751961135578, 15.470220210249, 15.4835039248062, 15.4833160543649, 15.4702608499742, 15.4728305, 15.4739365, 15.4742012, 15.4876124, 15.4165459, 15.4219471, 15.4014369822836, 15.3976495109034, 15.3936957953302, 15.3965992, 15.4033803, 15.3933862842875, 15.4097867, 15.3938874, 15.3984334882762, 15.3938874, 15.4089972757696, 15.3984587, 15.401687, 15.396028, null, 15.4146299989483, null, 15.4220248, 15.4166012, 15.4040235366082, 15.4116410942572, 15.4009166921712, 15.440536775215, 15.4398144], \"marker\": {\"color\": \"blue\", \"size\": 10}, \"mode\": \"markers\", \"name\": \"Privat\", \"text\": [\"WIKI Kinderkrippe Sackstra\\u00dfe\", \"WIKI Kinderkrippe Schl\\u00f6gelgasse\", \"Kinderkrippe Modellino\", \"GiP Kinderkrippe Leonhard\", \"GiP Kinderkrippe Leonhardstra\\u00dfe\", \"Kinderkrippe Landesunterst\\u00fctzungsverein\", \"WIKI Uni Kinderkrippe\", \"\\u00d6H Uni Graz/ WIKI Kinderkrippe\", \"Kinderkrippe Max und Moritz\", \"WIKI Kinderkrippe Hilmgasse\", \"Kinderkrippe integrativ gef\\u00fchrt f\\u00fcr H\\u00f6r- und Sprachbildung\", \"GiP Kinderkrippe Leechgasse\", \"Kinderkrippe Rasselbande\", \"Anton-Afritsch Kinderkrippe\", \"WIKI Kinderkrippe Plabutscher Stra\\u00dfe\", \"WIKI Kinderkrippe Ghegagasse\", \"GiP Kinderkrippe Stockergasse\", \"WIKI Kinderkrippe Babenbergerstra\\u00dfe\", \"WIKI Kinderkrippe \\u00dcberfuhrgasse\", \"GiP GmbH Kinderkrippe Sigmundstadl\", \"AVL Kinderkrippe (nur f\\u00fcr Bedienstete der Fa. AVL List GmbH)\", \"GiP Kinderkrippe\", \"WIKI Kalvarienbergstra\\u00dfe\", \"Privatkinderkrippe miniMEX\", \"WIKI Kinderkrippe Dreihackengasse\", \"WIKI Kinderkrippe Albert-Schweitzer\", \"GiP Kinderkrippe Elisabethinergasse\", \"WIKI Kinderkrippe \\u00d6AMTC\", \"GiP Kinderkrippe Triester Stra\\u00dfe\", \"WIKI Kinderkrippe Rankengasse\", \"GiP Kinderkrippe Vinzenz Muchitsch Stra\\u00dfe\", \"Kinderkrippe Kunterbunt\", \"WIKI Kinderkrippe himmelgr\\u00fcn-Holding Graz\", \"Nanoversity der TU Graz (Betriebskinderkrippe)\", \"Volkshilfe Kinderkrippe Messequartier\", \"WIKI Kinderkrippe Styria\", \"Kinderbetreuungsverein Kinderkrippe Schneckenhaus\", \"WIKI Kinderkrippe Ziehrerstra\\u00dfe\", \"GiP Kinderkrippe Raiffeisenstra\\u00dfe\", \"Kinderkrippe Magna Kids World, Volkshilfe Stmk. (Betriebskinderkrippe)\", \"WIKI Kinderkrippe Marburger Stra\\u00dfe\", \"Kinderkrippe Waldorf\", \"GiP Kinderkrippe St.Peter\", \"GiP Kinderkrippe Mannagettaweg\", \"GIP Kinderkrippe Waltendorfer Hauptstra\\u00dfe\", \"GIP Kinderkrippe Fischerhofweg\", \"Kinderkrippe Billrothgasse (nur f\\u00fcr Bedienstete des LKH Graz)\", \"Waldorf-Kinderstube Stiftingtal\", \"GiP Kinderkrippe Stiftingtalstra\\u00dfe\", \"GiP Kinderkrippe Kindercampus\", \"WIKI Kinderkrippe Tannhof\", \"Kinderkrippe Zwergennest\", \"WIKI Kinderkrippe Statteggerstra\\u00dfe\", \"Kinderkrippe Verein \\\"Mit Kindern wachsen\\\"\", \"WIKI Kinderkrippe G\\u00f6sting\", \"Volkshilfe Kinderkrippe Bunte Welt\", \"WIKI Kinderkrippe Obere Weid\", \"Kinderkrippe Kinderburg G\\u00f6sting\", \"WIKI Kinderkrippe Eggenberg\", \"WIKI Kinderkrippe Reininghaus\", \"Pfarrkinderkrippe St. Vinzenz\", \"Kinderkrippe Sim Sala Bim\", \"Betriebskinderkrippe der Barmherzigen Br\\u00fcder\", \"GiP Kindekrippe Reininghausstra\\u00dfe\", \"GiP Kinderkrippe Eckertstra\\u00dfe\", \"WIKI Kinderkrippe Algersdorferstra\\u00dfe\", \"WIKI Kinderkrippe Babynest\", \"Kinderkrippe \\\"Rettet das Kind\\\" Gusti Bauer\", \"GiP Kinderkrippe Wiesenauergasse\", \"\\u00a9 Kinderfreunde\", \"WIKI Kinderkrippe Graz-West\", \"WIKI Kinderkrippe K\\u00e4rntner Stra\\u00dfe\", \"Betriebskinderkrippe der Firma Anton Paar (nur f\\u00fcr Bedienstete der Firma Anton Paar)\", \"Kinderkrippe Verein Kindernest Lengheimerweg\", \"\\\"Rettet das Kind\\\" Kinderkrippe\", \"Volkshilfe Kinderkrippe \\\"Meine Welt\\\" Rudersdorfer Au\", \"GiP Kinderkrippe\"], \"type\": \"scattermapbox\", \"uid\": \"73f57a37-5a32-4e85-81b3-68eccb674fe1\"}, {\"lat\": [47.0704298, 47.0844163, 47.0727475, 47.0777836, 47.0687232, 47.05918325, 47.0794539], \"lon\": [15.4382352, 15.4366836263287, 15.4181763, 15.4494234560134, 15.4504543, 15.4633063948165, 15.4657707], \"marker\": {\"color\": \"green\", \"size\": 10}, \"mode\": \"markers\", \"name\": \"Landmarks\", \"text\": \"landmarks\", \"type\": \"scattermapbox\", \"uid\": \"2d35c65f-0a0c-4de3-b208-5cb712893fd2\"}],\n",
       "                        {\"autosize\": true, \"height\": 1024, \"hovermode\": \"closest\", \"legend\": {\"orientation\": \"h\", \"x\": 0, \"y\": 0}, \"mapbox\": {\"accesstoken\": \"pk.eyJ1Ijoic2xhZGtvdm0iLCJhIjoiY2piZjh3eWluMnMyZjMzbXJydWF2MWtzdSJ9.Ltqoa_kxJ1EMVj-8qGFNCA\", \"bearing\": 0, \"center\": {\"lat\": 47.0704298, \"lon\": 15.4382352}, \"pitch\": 0, \"zoom\": 12}, \"title\": {\"text\": \"Kinderkrippe Graz 2019\"}, \"width\": 1024},\n",
       "                        {\"showLink\": false, \"linkText\": \"Export to plot.ly\", \"plotlyServerURL\": \"https://plot.ly\", \"responsive\": true}\n",
       "                    ).then(function(){\n",
       "                            \n",
       "var gd = document.getElementById('3ef27c71-36bf-4131-9bd0-a02dd7108420');\n",
       "var x = new MutationObserver(function (mutations, observer) {{\n",
       "        var display = window.getComputedStyle(gd).display;\n",
       "        if (!display || display === 'none') {{\n",
       "            console.log([gd, 'removed!']);\n",
       "            Plotly.purge(gd);\n",
       "            observer.disconnect();\n",
       "        }}\n",
       "}});\n",
       "\n",
       "// Listen for the removal of the full notebook cells\n",
       "var notebookContainer = gd.closest('#notebook-container');\n",
       "if (notebookContainer) {{\n",
       "    x.observe(notebookContainer, {childList: true});\n",
       "}}\n",
       "\n",
       "// Listen for the clearing of the current output cell\n",
       "var outputEl = gd.closest('.output');\n",
       "if (outputEl) {{\n",
       "    x.observe(outputEl, {childList: true});\n",
       "}}\n",
       "\n",
       "                        })\n",
       "                };\n",
       "                });\n",
       "            </script>\n",
       "        </div>"
      ]
     },
     "metadata": {},
     "output_type": "display_data"
    }
   ],
   "source": [
    "data = [\n",
    "    go.Scattermapbox(\n",
    "        name='Stadt',\n",
    "        lat=df_stad.lat,\n",
    "        lon=df_stad.lon,\n",
    "        mode='markers',\n",
    "        marker=go.scattermapbox.Marker(\n",
    "            size=df_stad.GT*5,\n",
    "            color='red'\n",
    "        ),\n",
    "        text=df_stad.name,\n",
    "    ), \n",
    "    \n",
    "    go.Scattermapbox(\n",
    "        name='Privat',\n",
    "        lat=df_privat.lat,\n",
    "        lon=df_privat.lon,\n",
    "        mode='markers',\n",
    "        marker=go.scattermapbox.Marker(\n",
    "            size=10,\n",
    "            color='blue'\n",
    "        ),\n",
    "        text=df_privat.name,\n",
    "    ),\n",
    "    \n",
    "    go.Scattermapbox(\n",
    "        name='Landmarks',\n",
    "        lat=[center.latitude, home.latitude, hbf.latitude, uni.latitude, tu_uni.latitude, kc.latitude, lkh.latitude],\n",
    "        lon=[center.longitude, home.longitude, hbf.longitude, uni.longitude, tu_uni.longitude, kc.longitude, lkh.longitude],\n",
    "        mode='markers',\n",
    "        marker=go.scattermapbox.Marker(\n",
    "            size=10,\n",
    "            color='green'\n",
    "        ),\n",
    "        text='landmarks',\n",
    "    )\n",
    "]\n",
    "\n",
    "\n",
    "\n",
    "layout = go.Layout(\n",
    "    title='Kinderkrippe Graz 2019',\n",
    "    autosize=True,\n",
    "    width=1024,\n",
    "    height=1024,\n",
    "    legend=dict(orientation=\"h\", x=0, y=0),\n",
    "    hovermode='closest',\n",
    "    mapbox=go.layout.Mapbox(\n",
    "        accesstoken=mapbox_access_token,\n",
    "        bearing=0,\n",
    "        center=go.layout.mapbox.Center(\n",
    "            lat=center.latitude,\n",
    "            lon=center.longitude\n",
    "        ),\n",
    "        pitch=0,\n",
    "        zoom=12\n",
    "    )\n",
    ")\n",
    "\n",
    "fig = go.Figure(data=data, layout=layout)\n",
    "iplot(fig, filename='Kiderkrippe Graz')"
   ]
  },
  {
   "cell_type": "code",
   "execution_count": 38,
   "metadata": {},
   "outputs": [
    {
     "data": {
      "text/plain": [
       "Layout({\n",
       "    'autosize': True,\n",
       "    'height': 1024,\n",
       "    'hovermode': 'closest',\n",
       "    'legend': {'orientation': 'h', 'x': 0, 'y': 0},\n",
       "    'mapbox': {'accesstoken': ('pk.eyJ1Ijoic2xhZGtvdm0iLCJhIjo' ... 'WtzdSJ9.Ltqoa_kxJ1EMVj-8qGFNCA'),\n",
       "               'bearing': 0,\n",
       "               'center': {'lat': 47.0704298, 'lon': 15.4382352},\n",
       "               'pitch': 0,\n",
       "               'zoom': 12},\n",
       "    'shapes': [{'line': {'color': 'rgb(128, 0, 128)', 'dash': 'dot', 'width': 4},\n",
       "                'type': 'line',\n",
       "                'x0': 47.0704298,\n",
       "                'x1': 47.0844163,\n",
       "                'xref': 'x',\n",
       "                'y0': 15.4382352,\n",
       "                'y1': 15.4366836263287,\n",
       "                'yref': 'y'}],\n",
       "    'title': {'text': 'Kinderkrippe Graz 2019'},\n",
       "    'width': 1024\n",
       "})"
      ]
     },
     "execution_count": 38,
     "metadata": {},
     "output_type": "execute_result"
    }
   ],
   "source": [
    "layout"
   ]
  },
  {
   "cell_type": "code",
   "execution_count": 24,
   "metadata": {},
   "outputs": [
    {
     "name": "stdout",
     "output_type": "stream",
     "text": [
      "47.0844163 47.0710049\n",
      "15.4366836263287 15.4385152547851\n"
     ]
    }
   ],
   "source": [
    "print(home.latitude, center.latitude)\n",
    "print(home.longitude, center.longitude)"
   ]
  },
  {
   "cell_type": "code",
   "execution_count": 43,
   "metadata": {},
   "outputs": [
    {
     "data": {
      "text/plain": [
       "layout.Mapbox({\n",
       "    'accesstoken': ('pk.eyJ1Ijoic2xhZGtvdm0iLCJhIjo' ... 'WtzdSJ9.Ltqoa_kxJ1EMVj-8qGFNCA'),\n",
       "    'bearing': 0,\n",
       "    'center': {'lat': 47.0704298, 'lon': 15.4382352},\n",
       "    'pitch': 0,\n",
       "    'zoom': 12\n",
       "})"
      ]
     },
     "execution_count": 43,
     "metadata": {},
     "output_type": "execute_result"
    }
   ],
   "source": [
    "fig['layout']['mapbox']"
   ]
  }
 ],
 "metadata": {
  "kernelspec": {
   "display_name": "Python 3",
   "language": "python",
   "name": "python3"
  },
  "language_info": {
   "codemirror_mode": {
    "name": "ipython",
    "version": 3
   },
   "file_extension": ".py",
   "mimetype": "text/x-python",
   "name": "python",
   "nbconvert_exporter": "python",
   "pygments_lexer": "ipython3",
   "version": "3.6.7"
  }
 },
 "nbformat": 4,
 "nbformat_minor": 2
}
