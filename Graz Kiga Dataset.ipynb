{
 "cells": [
  {
   "cell_type": "code",
   "execution_count": 37,
   "metadata": {},
   "outputs": [],
   "source": [
    "import bonobo\n",
    "from requests_html import HTMLSession\n",
    "from pprint import pprint"
   ]
  },
  {
   "cell_type": "markdown",
   "metadata": {},
   "source": [
    "# Define ETL functions"
   ]
  },
  {
   "cell_type": "code",
   "execution_count": 63,
   "metadata": {},
   "outputs": [],
   "source": [
    "def extract():\n",
    "    url = 'https://www.graz.at/cms/beitrag/10237730/7745079/Staedtische_Kinderkrippen.html'\n",
    "    session = HTMLSession()\n",
    "    r = session.get(url)\n",
    "    sel = '//*[@id=\"middle-content\"]/div/div'\n",
    "    elements = r.html.xpath(sel)\n",
    "    for e in elements:\n",
    "        yield e\n",
    "        \n",
    "\n",
    "def split_lines(e):\n",
    "    text = e.text\n",
    "    lines = text.split('\\n')\n",
    "    if len(lines) == 7:\n",
    "        yield lines\n",
    "        \n",
    "\n",
    "def jsonify(lines):\n",
    "    keys = ['district', 'name', 'address', 'tel', 'n_groups', 'time', 'more']\n",
    "    d = dict(zip(keys, lines))\n",
    "    pprint(d)\n",
    "    yield d\n",
    "    \n",
    "\n",
    "def extract_gt(d):\n",
    "    d.update({'GT': n_gt(d['n_groups'])})\n",
    "    yield d\n",
    "    \n",
    "    \n",
    "# Helper functions\n",
    "    \n",
    "def n_gt(text):\n",
    "    reg = r\"(\\d+) (?=GT)\"\n",
    "    res = re.findall(reg, text)\n",
    "    return int(res[0])"
   ]
  },
  {
   "cell_type": "markdown",
   "metadata": {},
   "source": [
    "# Buld the ETL graph"
   ]
  },
  {
   "cell_type": "code",
   "execution_count": 64,
   "metadata": {},
   "outputs": [
    {
     "data": {
      "text/plain": [
       "GraphRange(graph=<bonobo.structs.graphs.Graph object at 0x000001FCB9BE7E10>, input=0, output=4)"
      ]
     },
     "execution_count": 64,
     "metadata": {},
     "output_type": "execute_result"
    }
   ],
   "source": [
    "graph = bonobo.Graph()\n",
    "graph.add_chain(extract, split_lines, jsonify, extract_gt, bonobo.JsonWriter('kiga.json'))"
   ]
  },
  {
   "cell_type": "markdown",
   "metadata": {},
   "source": [
    "# Run the ELT graph"
   ]
  },
  {
   "cell_type": "code",
   "execution_count": 65,
   "metadata": {},
   "outputs": [
    {
     "data": {
      "application/vnd.jupyter.widget-view+json": {
       "model_id": "5803e43528084d209f49c93fe768b864",
       "version_major": 2,
       "version_minor": 0
      },
      "text/plain": [
       "BonoboWidget()"
      ]
     },
     "metadata": {},
     "output_type": "display_data"
    },
    {
     "name": "stdout",
     "output_type": "stream",
     "text": [
      "{'address': 'Plüddemanngasse 28, 8010 Graz',\n",
      " 'district': 'II. St. Leonhard',\n",
      " 'more': 'Mehr Infos',\n",
      " 'n_groups': 'Anzahl der Gruppen: 1 GT',\n",
      " 'name': 'Kinderkrippe Plüddemanngasse',\n",
      " 'tel': 'Tel.: +43 316 872-2627',\n",
      " 'time': 'Öffnungszeiten: Montag bis Freitag von 07.00 bis 17.00 Uhr'}\n",
      "{'address': 'Erlengasse 25, 8020 Graz',\n",
      " 'district': 'IV. Lend',\n",
      " 'more': 'Mehr Infos',\n",
      " 'n_groups': 'Anzahl der Gruppen: 3 GT',\n",
      " 'name': 'Kinderkrippe Erlengasse',\n",
      " 'tel': 'Tel.: +43 316 872-2680',\n",
      " 'time': 'Öffnungszeiten: Montag bis Freitag von 07.00 bis 17.00 Uhr'}\n",
      "{'address': 'Idlhofgasse 74, 8020 Graz',\n",
      " 'district': 'V. Gries',\n",
      " 'more': 'Mehr Infos',\n",
      " 'n_groups': 'Anzahl der Gruppen: 2 GT',\n",
      " 'name': 'Kinderkrippe Idlhofgasse',\n",
      " 'tel': 'Tel.: +43 316 872-2781',\n",
      " 'time': 'Öffnungszeiten: Montag bis Freitag von 07.00 bis 17.00 Uhr'}\n",
      "{'address': 'Dornschneidergasse 45, 8020 Graz',\n",
      " 'district': 'V. Gries',\n",
      " 'more': 'Mehr Infos',\n",
      " 'n_groups': 'Anzahl der Gruppen: 1 GT',\n",
      " 'name': 'Kinderkrippe Dornschneidergasse',\n",
      " 'tel': 'Tel.: +43 316 872-2608',\n",
      " 'time': 'Öffnungszeiten: Montag bis Freitag von 07.00 bis 17.00 Uhr'}\n",
      "{'address': 'Petersgasse 94, 8010 Graz',\n",
      " 'district': 'VI. Jakomini',\n",
      " 'more': 'Mehr Infos',\n",
      " 'n_groups': 'Anzahl der Gruppen: 3 GT',\n",
      " 'name': 'Kinderkrippe Petersgasse',\n",
      " 'tel': 'Tel.: +43 316 872-2783',\n",
      " 'time': 'Öffnungszeiten: Montag bis Freitag von 07.00 bis 17.00 Uhr'}\n",
      "{'address': 'Flurgasse 1, 8010 Graz',\n",
      " 'district': 'VI. Jakomini',\n",
      " 'more': 'Mehr Infos',\n",
      " 'n_groups': 'Anzahl der Gruppen:\\xa02 GT',\n",
      " 'name': 'Kinderkrippe Flurgasse',\n",
      " 'tel': 'Tel.: +43 316 872-2784',\n",
      " 'time': 'Öffnungszeiten: Montag bis Freitag von 07.00 bis 17.00 Uhr'}\n",
      "{'address': 'Friedrichgasse 28, 8010 Graz',\n",
      " 'district': 'VI. Jakomini',\n",
      " 'more': 'Mehr Infos',\n",
      " 'n_groups': 'Anzahl der Gruppen: 1 GT',\n",
      " 'name': 'Kinderkrippe Friedrichgasse',\n",
      " 'tel': 'Tel.: +43 316 872-2604',\n",
      " 'time': 'Öffnungszeiten: Montag bis Freitag von 07.00 bis 17.00 Uhr'}\n",
      "{'address': 'Fröhlichgasse 90, 8010 Graz',\n",
      " 'district': 'VI. Jakomini',\n",
      " 'more': 'Mehr Infos',\n",
      " 'n_groups': 'Anzahl der Gruppen:\\xa02 GT',\n",
      " 'name': 'Kinderkrippe Fröhlichgasse',\n",
      " 'tel': 'Tel.:\\xa0+43 316 872 2716',\n",
      " 'time': 'Öffnungszeiten: Montag bis Freitag von 07.00 bis 17.00 Uhr'}\n",
      "{'address': 'Mittelstraße 23, 8041 Graz',\n",
      " 'district': 'VII. Liebenau',\n",
      " 'more': 'Mehr Infos',\n",
      " 'n_groups': 'Anzahl der Gruppen: 1 GT',\n",
      " 'name': 'Kinderkrippe Mittelstraße',\n",
      " 'tel': 'Tel.: +43 316 872-2624',\n",
      " 'time': 'Öffnungszeiten: Montag bis Freitag von 07.00 bis 17.00 Uhr'}\n",
      "{'address': 'Kloiberweg 1, 8041 Graz',\n",
      " 'district': 'VII. Liebenau',\n",
      " 'more': 'Mehr Infos',\n",
      " 'n_groups': 'Anzahl der Gruppen:\\xa02 GT',\n",
      " 'name': 'Kinderkrippe Kloiberweg',\n",
      " 'tel': 'Tel.: +43 316 872-2782',\n",
      " 'time': 'Öffnungszeiten: Montag bis Freitag von 07.00 bis 17.00 Uhr'}\n",
      "{'address': 'Nußbaumerstraße 36, 8042 Graz',\n",
      " 'district': 'VIII. St. Peter',\n",
      " 'more': 'Mehr Infos',\n",
      " 'n_groups': 'Anzahl der Gruppen: 1 GT',\n",
      " 'name': 'Kinderkrippe Nußbaumerstraße',\n",
      " 'tel': 'Tel.: +43 316 872-2723',\n",
      " 'time': 'Öffnungszeiten: Montag bis Freitag von 07.00 bis 17.00 Uhr'}\n",
      "{'address': 'Lustbühelstraße 28, 8042 Graz',\n",
      " 'district': 'IX. Waltendorf',\n",
      " 'more': 'Mehr Infos',\n",
      " 'n_groups': 'Anzahl der Gruppen: 2 GT',\n",
      " 'name': 'Kinderkrippe Lustbühelstraße',\n",
      " 'tel': 'Tel.: +43 316 872-2620',\n",
      " 'time': 'Öffnungszeiten: Montag bis Freitag von 07.00 bis 17.00 Uhr'}\n",
      "{'address': 'Schönbrunngasse 30, 8043 Graz',\n",
      " 'district': 'XI. Mariatrost',\n",
      " 'more': 'Mehr Infos',\n",
      " 'n_groups': 'Anzahl der Gruppen: 5 GT',\n",
      " 'name': 'Kinderkrippe Schönbrunngasse',\n",
      " 'tel': 'Tel.: +43 316 872-2780',\n",
      " 'time': 'Öffnungszeiten: Montag bis Freitag von 07.00 bis 17.00 Uhr'}\n",
      "{'address': 'Weinzöttlstraße 3, 8045 Graz',\n",
      " 'district': 'XII. Andritz',\n",
      " 'more': 'Mehr Infos',\n",
      " 'n_groups': 'Anzahl der Gruppen: 1 GT',\n",
      " 'name': 'Kinderkrippe Weinzöttlstraße',\n",
      " 'tel': 'Tel.: +43 316 872-2681',\n",
      " 'time': 'Öffnungszeiten: Montag bis Freitag von 07.00 bis 17.00 Uhr'}\n",
      "{'address': 'Prochaskagasse 23, 8045 Graz',\n",
      " 'district': 'XII. Andritz',\n",
      " 'more': 'Mehr Infos',\n",
      " 'n_groups': 'Anzahl der Gruppen: 4 GT',\n",
      " 'name': 'Kinderkrippe Prochaskagasse',\n",
      " 'tel': 'Tel.: +43 316 872-2687',\n",
      " 'time': 'Öffnungszeiten: Montag bis Freitag von 07.00 bis 17.00 Uhr'}\n",
      "{'address': 'Augasse 81 b, 8051 Graz',\n",
      " 'district': 'XIII. Gösting',\n",
      " 'more': 'Mehr Infos',\n",
      " 'n_groups': 'Anzahl der Gruppen: 2 GT',\n",
      " 'name': 'Kinderkrippe Augasse',\n",
      " 'tel': 'Tel.: +43 316 872-2721',\n",
      " 'time': 'Öffnungszeiten: Montag bis Freitag von 07.00 bis 17.00 Uhr'}\n",
      "{'address': 'Schererstraße 7b, 8052 Graz',\n",
      " 'district': 'XV. Wetzelsdorf',\n",
      " 'more': 'Mehr Infos',\n",
      " 'n_groups': 'Anzahl der Gruppen: 2 GT',\n",
      " 'name': 'Kinderkrippe Schererstraße',\n",
      " 'tel': 'Tel.: +43 316 872-2638',\n",
      " 'time': 'Öffnungszeiten: Montag bis Freitag von 07.00 bis 17.00 Uhr'}\n"
     ]
    },
    {
     "data": {
      "text/plain": [
       "<bonobo.execution.contexts.graph.GraphExecutionContext at 0x1fcb9be75c0>"
      ]
     },
     "execution_count": 65,
     "metadata": {},
     "output_type": "execute_result"
    }
   ],
   "source": [
    "bonobo.run(graph)"
   ]
  },
  {
   "cell_type": "code",
   "execution_count": 44,
   "metadata": {},
   "outputs": [],
   "source": [
    "import re"
   ]
  },
  {
   "cell_type": "code",
   "execution_count": 55,
   "metadata": {},
   "outputs": [],
   "source": [
    "text = 'Anzahl der Gruppen: 1 GT'"
   ]
  },
  {
   "cell_type": "code",
   "execution_count": 62,
   "metadata": {},
   "outputs": [
    {
     "data": {
      "text/plain": [
       "2"
      ]
     },
     "execution_count": 62,
     "metadata": {},
     "output_type": "execute_result"
    }
   ],
   "source": [
    "extract_gt('Anzahl der Gruppen:\\xa02 GT')"
   ]
  },
  {
   "cell_type": "code",
   "execution_count": 58,
   "metadata": {},
   "outputs": [
    {
     "data": {
      "text/plain": [
       "['1']"
      ]
     },
     "execution_count": 58,
     "metadata": {},
     "output_type": "execute_result"
    }
   ],
   "source": [
    "reg = r\"(\\d+) (?=GT)\"\n",
    "re.findall(reg, text)"
   ]
  }
 ],
 "metadata": {
  "kernelspec": {
   "display_name": "Python 3",
   "language": "python",
   "name": "python3"
  },
  "language_info": {
   "codemirror_mode": {
    "name": "ipython",
    "version": 3
   },
   "file_extension": ".py",
   "mimetype": "text/x-python",
   "name": "python",
   "nbconvert_exporter": "python",
   "pygments_lexer": "ipython3",
   "version": "3.6.5"
  }
 },
 "nbformat": 4,
 "nbformat_minor": 2
}
